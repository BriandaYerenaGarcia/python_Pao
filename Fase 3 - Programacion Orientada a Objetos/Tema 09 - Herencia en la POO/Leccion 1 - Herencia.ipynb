{
 "cells": [
  {
   "cell_type": "code",
   "execution_count": 5,
   "metadata": {},
   "outputs": [
    {
     "name": "stdout",
     "output_type": "stream",
     "text": [
      "REFERENCIA \t2032\n",
      "NOMBRE\t\tVaso adornado\n",
      "PVP\t\t15\n",
      "DESCRIPCION\tVaso de porcenala decoración navideña\n"
     ]
    }
   ],
   "source": [
    "class Producto: \n",
    "    def __init__(self, referencia, nombre, pvp, descripcion): \n",
    "        self.referencia = referencia \n",
    "        self.nombre = nombre \n",
    "        self.pvp = pvp \n",
    "        self.descripcion = descripcion \n",
    "\n",
    "    def __str__(self):\n",
    "        return \"\"\"\\\n",
    "REFERENCIA \\t{}\n",
    "NOMBRE\\t\\t{}\n",
    "PVP\\t\\t{}\n",
    "DESCRIPCION\\t{}\"\"\".format(self.referencia,self.nombre,self.pvp,self.descripcion)\n",
    "\n",
    "class Adorno(Producto):\n",
    "    pass\n",
    "\n",
    "a = Adorno(2032,\"Vaso adornado\",15,\"Vaso de porcenala decoración navideña\")\n",
    "print(a)"
   ]
  },
  {
   "cell_type": "code",
   "execution_count": 8,
   "metadata": {},
   "outputs": [
    {
     "name": "stdout",
     "output_type": "stream",
     "text": [
      "REFERENCIA \t2033\n",
      "NOMBRE\t\tOliva extra Virgen\n",
      "PVP\t\t5\n",
      "DESCRIPCION\t250 ML\n",
      "PRODUCTOR\tLa Aceitera\n",
      "DISTRIBUIDOR\tDistribuciones S.A.\n"
     ]
    }
   ],
   "source": [
    "class Alimento(Producto):\n",
    "    productor = \"\"\n",
    "    distribuidor = \"\"\n",
    "\n",
    "    def __str__(self):\n",
    "        return \"\"\"\\\n",
    "REFERENCIA \\t{}\n",
    "NOMBRE\\t\\t{}\n",
    "PVP\\t\\t{}\n",
    "DESCRIPCION\\t{}\n",
    "PRODUCTOR\\t{}\n",
    "DISTRIBUIDOR\\t{}\"\"\".format(self.referencia,self.nombre,self.pvp,self.descripcion,self.productor,self.distribuidor)\n",
    "\n",
    "\n",
    "al = Alimento(2033,\"Oliva extra Virgen\",5,\"250 ML\")\n",
    "al.productor = \"La Aceitera\"\n",
    "al.distribuidor = \"Distribuciones S.A.\"\n",
    "\n",
    "print(al)"
   ]
  },
  {
   "cell_type": "code",
   "execution_count": 14,
   "metadata": {},
   "outputs": [
    {
     "name": "stdout",
     "output_type": "stream",
     "text": [
      "REFERENCIA \t2034\n",
      "NOMBRE\t\tLuna\n",
      "PVP\t\t100\n",
      "DESCRIPCION\tNovela romantica\n",
      "ISBN\t('AA-123-23', 'Oscar Matey')\n",
      "AUTOR\t\n"
     ]
    }
   ],
   "source": [
    "class Libro(Producto):\n",
    "    isbn = \"\"\n",
    "    autor = \"\" \n",
    "    \n",
    "    def __str__(self):\n",
    "        return \"\"\"\\\n",
    "REFERENCIA \\t{}\n",
    "NOMBRE\\t\\t{}\n",
    "PVP\\t\\t{}\n",
    "DESCRIPCION\\t{}\n",
    "ISBN\\t{}\n",
    "AUTOR\\t{}\"\"\".format(self.referencia,self.nombre,self.pvp,self.descripcion,self.isbn,self.autor)\n",
    "\n",
    "lib = Libro(2034,\"Luna\",100,\"Novela romantica\")\n",
    "lib.isbn = \"AA-123-23\",\"Oscar Matey\"\n",
    "print(lib)\n",
    "    "
   ]
  },
  {
   "cell_type": "code",
   "execution_count": null,
   "metadata": {},
   "outputs": [],
   "source": []
  }
 ],
 "metadata": {
  "kernelspec": {
   "display_name": "Python 3 (ipykernel)",
   "language": "python",
   "name": "python3"
  },
  "language_info": {
   "codemirror_mode": {
    "name": "ipython",
    "version": 3
   },
   "file_extension": ".py",
   "mimetype": "text/x-python",
   "name": "python",
   "nbconvert_exporter": "python",
   "pygments_lexer": "ipython3",
   "version": "3.12.4"
  }
 },
 "nbformat": 4,
 "nbformat_minor": 4
}
