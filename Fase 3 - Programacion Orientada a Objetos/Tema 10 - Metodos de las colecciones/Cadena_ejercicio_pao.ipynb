{
 "cells": [
  {
   "cell_type": "code",
   "execution_count": 57,
   "id": "93742af4-ecfd-4131-b5aa-8802ed8eabac",
   "metadata": {},
   "outputs": [
    {
     "name": "stdin",
     "output_type": "stream",
     "text": [
      "Por favor ingresa una frase con letras mayusculas y minusculas\n",
      " ama a tu mama\n"
     ]
    },
    {
     "name": "stdout",
     "output_type": "stream",
     "text": [
      "['a', 'm', 'a', ' ', 'a', ' ', 't', 'u', ' ', 'm', 'a', 'm', 'a']\n",
      "13\n",
      "5\n"
     ]
    },
    {
     "name": "stdin",
     "output_type": "stream",
     "text": [
      "Ingresa la cadena pero caracter por caracter, incluyendo espacios a\n"
     ]
    },
    {
     "name": "stdout",
     "output_type": "stream",
     "text": [
      "Siguiente caracter\n"
     ]
    },
    {
     "name": "stdin",
     "output_type": "stream",
     "text": [
      "Ingresa la cadena pero caracter por caracter, incluyendo espacios m\n"
     ]
    },
    {
     "name": "stdout",
     "output_type": "stream",
     "text": [
      "Siguiente caracter\n"
     ]
    },
    {
     "name": "stdin",
     "output_type": "stream",
     "text": [
      "Ingresa la cadena pero caracter por caracter, incluyendo espacios a\n"
     ]
    },
    {
     "name": "stdout",
     "output_type": "stream",
     "text": [
      "Siguiente caracter\n"
     ]
    },
    {
     "name": "stdin",
     "output_type": "stream",
     "text": [
      "Ingresa la cadena pero caracter por caracter, incluyendo espacios  \n"
     ]
    },
    {
     "name": "stdout",
     "output_type": "stream",
     "text": [
      "Siguiente caracter\n"
     ]
    },
    {
     "name": "stdin",
     "output_type": "stream",
     "text": [
      "Ingresa la cadena pero caracter por caracter, incluyendo espacios a\n"
     ]
    },
    {
     "name": "stdout",
     "output_type": "stream",
     "text": [
      "Siguiente caracter\n"
     ]
    },
    {
     "name": "stdin",
     "output_type": "stream",
     "text": [
      "Ingresa la cadena pero caracter por caracter, incluyendo espacios  \n"
     ]
    },
    {
     "name": "stdout",
     "output_type": "stream",
     "text": [
      "Siguiente caracter\n"
     ]
    },
    {
     "name": "stdin",
     "output_type": "stream",
     "text": [
      "Ingresa la cadena pero caracter por caracter, incluyendo espacios t\n"
     ]
    },
    {
     "name": "stdout",
     "output_type": "stream",
     "text": [
      "Siguiente caracter\n"
     ]
    },
    {
     "name": "stdin",
     "output_type": "stream",
     "text": [
      "Ingresa la cadena pero caracter por caracter, incluyendo espacios u\n"
     ]
    },
    {
     "name": "stdout",
     "output_type": "stream",
     "text": [
      "Siguiente caracter\n"
     ]
    },
    {
     "name": "stdin",
     "output_type": "stream",
     "text": [
      "Ingresa la cadena pero caracter por caracter, incluyendo espacios  \n"
     ]
    },
    {
     "name": "stdout",
     "output_type": "stream",
     "text": [
      "Siguiente caracter\n"
     ]
    },
    {
     "name": "stdin",
     "output_type": "stream",
     "text": [
      "Ingresa la cadena pero caracter por caracter, incluyendo espacios m\n"
     ]
    },
    {
     "name": "stdout",
     "output_type": "stream",
     "text": [
      "Siguiente caracter\n"
     ]
    },
    {
     "name": "stdin",
     "output_type": "stream",
     "text": [
      "Ingresa la cadena pero caracter por caracter, incluyendo espacios a\n"
     ]
    },
    {
     "name": "stdout",
     "output_type": "stream",
     "text": [
      "Siguiente caracter\n"
     ]
    },
    {
     "name": "stdin",
     "output_type": "stream",
     "text": [
      "Ingresa la cadena pero caracter por caracter, incluyendo espacios m\n"
     ]
    },
    {
     "name": "stdout",
     "output_type": "stream",
     "text": [
      "Siguiente caracter\n"
     ]
    },
    {
     "name": "stdin",
     "output_type": "stream",
     "text": [
      "Ingresa la cadena pero caracter por caracter, incluyendo espacios a\n"
     ]
    },
    {
     "name": "stdout",
     "output_type": "stream",
     "text": [
      "Siguiente caracter\n",
      "5\n"
     ]
    }
   ],
   "source": [
    "#Realiza un programa que lea una cadena por teclado y convierta las manyusculas a minusculas y viceversa\" \n",
    "c = str(input(\"Por favor ingresa una frase con letras mayusculas y minusculas\\n\"))\n",
    "lista_2 = []\n",
    "comas = \",\".join(c)\n",
    "lista = comas.split(\",\")\n",
    "print(lista)\n",
    "ele = len(lista)\n",
    "print(ele)\n",
    "print(c.count('a'))\n",
    "\n",
    "contador = 1 \n",
    "while contador <= ele:\n",
    "    a = input(\"Ingresa la cadena pero caracter por caracter, incluyendo espacios\")\n",
    "    if len(a) == 1:\n",
    "        print (\"Siguiente caracter\") \n",
    "        lista_2.append(a)\n",
    "        contador += 1\n",
    "    \n",
    "    else:\n",
    "        print(\"Estas ingresando mas de un caracter\") \n",
    "\n",
    "print(lista_2.count(a))\n",
    "    \n",
    "#print(\"Haz completado la cadena caracter por caracter, tu frase es {}\".format(c))\n",
    "    \n",
    "    \n",
    "\n",
    "\n",
    "\n",
    "\n",
    "\n",
    "\n",
    "#print(c.upper()) \n",
    "#print(c.lower()) \n",
    "#print(c.swapcase())\n"
   ]
  },
  {
   "cell_type": "code",
   "execution_count": null,
   "id": "f69f2a6a-1666-4236-b468-f1949aebcba6",
   "metadata": {},
   "outputs": [],
   "source": []
  }
 ],
 "metadata": {
  "kernelspec": {
   "display_name": "Python 3 (ipykernel)",
   "language": "python",
   "name": "python3"
  },
  "language_info": {
   "codemirror_mode": {
    "name": "ipython",
    "version": 3
   },
   "file_extension": ".py",
   "mimetype": "text/x-python",
   "name": "python",
   "nbconvert_exporter": "python",
   "pygments_lexer": "ipython3",
   "version": "3.12.4"
  }
 },
 "nbformat": 4,
 "nbformat_minor": 5
}
