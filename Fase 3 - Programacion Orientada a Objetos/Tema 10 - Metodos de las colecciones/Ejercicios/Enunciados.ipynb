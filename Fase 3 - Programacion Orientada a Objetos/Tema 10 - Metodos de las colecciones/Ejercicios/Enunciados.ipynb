{
 "cells": [
  {
   "cell_type": "markdown",
   "metadata": {},
   "source": [
    "# Tema 10: Métodos de las colecciones (Enunciados)\n",
    "*Nota: Estos ejercicios son optativos para hacer al final de la unidad y están pensados para apoyar tu aprendizaje*."
   ]
  },
  {
   "cell_type": "markdown",
   "metadata": {},
   "source": [
    "**1) Utilizando todo lo que sabes sobre cadenas, listas, sus métodos internos... Transforma este texto:**\n",
    "\n",
    "```\n",
    "un día que el viento soplaba con fuerza#mira como se mueve aquella banderola -dijo un monje#lo que se mueve es el viento -respondió otro monje#ni las banderolas ni el viento, lo que se mueve son vuestras mentes -dijo el maestro\n",
    "```\n",
    "**En este otro:**\n",
    "\n",
    "```\n",
    "Un día que el viento soplaba con fuerza...\n",
    "- Mira como se mueve aquella banderola -dijo un monje.\n",
    "- Lo que se mueve es el viento -respondió otro monje.\n",
    "- Ni las banderolas ni el viento, lo que se mueve son vuestras mentes -dijo el maestro.\n",
    "```\n",
    "**Lo único prohibido es modificar directamente el texto**"
   ]
  },
  {
   "cell_type": "code",
   "execution_count": 41,
   "metadata": {
    "collapsed": false,
    "jupyter": {
     "outputs_hidden": false
    }
   },
   "outputs": [
    {
     "name": "stdout",
     "output_type": "stream",
     "text": [
      "Un día que el viento soplaba con fuerza...\n",
      "- Mira como se mueve aquella banderola -dijo un monje.\n",
      "- Lo que se mueve es el viento -respondió otro monje.\n",
      "- Ni las banderolas ni el viento, lo que se mueve son vuestras mentes -dijo el maestro.\n"
     ]
    }
   ],
   "source": [
    "# Completa el ejercicio aquí\n",
    "texto = \"un día que el viento soplaba con fuerza#mira como se mueve aquella banderola -dijo un monje#lo que se mueve es el viento -respondió otro monje#ni las banderolas ni el viento, lo que se mueve son vuestras mentes -dijo el maestro\"\n",
    "lista = texto.split(\"#\")\n",
    "#print(lista)\n",
    "enu_1 = lista.pop(0)\n",
    "enu_2 = lista.pop(0) \n",
    "enu_3 = lista.pop(0) \n",
    "enu_4 = lista.pop(0) \n",
    "n_lista1 = (enu_1, \"...\")\n",
    "cadena1 = \"\".join(n_lista1)\n",
    "#print(n_lista1)\n",
    "cadena2 = \"\".join(enu_2)\n",
    "cadena3 = \"\".join(enu_3)\n",
    "cadena4 = \"\".join(enu_4)\n",
    "capital_1 = cadena1.capitalize()\n",
    "capital_2 = cadena2.capitalize()\n",
    "capital_3 = cadena3.capitalize()\n",
    "capital_4 = cadena4.capitalize()\n",
    "\n",
    "new_2 = capital_2.split(\".\")\n",
    "new_3 = capital_3.split(\".\")\n",
    "new_4 = capital_4.split(\".\")\n",
    "\n",
    "guion_2 = [\"- \"]\n",
    "guion_3 = [\"- \"]\n",
    "guion_4 = [\"- \"]\n",
    "\n",
    "ex_2 = new_2.pop()\n",
    "ex_3 = new_3.pop()\n",
    "ex_4 = new_4.pop()\n",
    "\n",
    "guion_2.append(ex_2)\n",
    "guion_3.append(ex_3)\n",
    "guion_4.append(ex_4)\n",
    "\n",
    "guion_2.append(\".\")\n",
    "guion_3.append(\".\")\n",
    "guion_4.append(\".\")\n",
    "\n",
    "final_1 = capital_1\n",
    "final_2 = \"\".join(guion_2)\n",
    "final_3 = \"\".join(guion_3)\n",
    "final_4 = \"\".join(guion_4)\n",
    "\n",
    "print(final_1) \n",
    "print(final_2) \n",
    "print(final_3) \n",
    "print(final_4) \n"
   ]
  },
  {
   "cell_type": "markdown",
   "metadata": {},
   "source": [
    "**2) Crea una función modificar() que a partir de una lista de números realice las siguientes tareas sin modificar la original:**\n",
    "\n",
    "* Borrar los elementos duplicados\n",
    "* Ordenar la lista de mayor a menor\n",
    "* Eliminar todos los números impares\n",
    "* Realizar una suma de todos los números que quedan\n",
    "* Añadir como primer elemento de la lista la suma realizada\n",
    "* Devolver la lista modificada\n",
    "* Finalmente, después de ejecutar la función, comprueba que la suma de todos los números a partir del segundo, concuerda con el primer número de la lista, tal que así:\n",
    "```python\n",
    "nueva_lista = modificar(lista)\n",
    "print( nueva_lista[0] == sum(nueva_lista[1:]) )\n",
    "> True\n",
    "```\n",
    "\n",
    "*Nota: La función sum(lista) devuelve una suma de los elementos de una lista*"
   ]
  },
  {
   "cell_type": "code",
   "execution_count": 6,
   "metadata": {
    "collapsed": false,
    "jupyter": {
     "outputs_hidden": false
    }
   },
   "outputs": [],
   "source": [
    "# Completa el ejercicio aquí\n",
    "lista = [29, -5, -12, 17, 5, 24, 5, 12, 23, 16, 12, 5, -12, 17]\n",
    "\n"
   ]
  }
 ],
 "metadata": {
  "anaconda-cloud": {},
  "kernelspec": {
   "display_name": "Python 3 (ipykernel)",
   "language": "python",
   "name": "python3"
  },
  "language_info": {
   "codemirror_mode": {
    "name": "ipython",
    "version": 3
   },
   "file_extension": ".py",
   "mimetype": "text/x-python",
   "name": "python",
   "nbconvert_exporter": "python",
   "pygments_lexer": "ipython3",
   "version": "3.12.4"
  }
 },
 "nbformat": 4,
 "nbformat_minor": 4
}
