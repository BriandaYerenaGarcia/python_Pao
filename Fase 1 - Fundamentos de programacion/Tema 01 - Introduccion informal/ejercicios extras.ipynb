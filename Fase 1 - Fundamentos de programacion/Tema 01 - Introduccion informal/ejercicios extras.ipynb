{
 "cells": [
  {
   "cell_type": "code",
   "execution_count": 10,
   "id": "3d9c6d41-516a-4612-8dab-17942090b8e2",
   "metadata": {},
   "outputs": [
    {
     "name": "stdout",
     "output_type": "stream",
     "text": [
      "la nota media porcentual es 5.949999999999999\n"
     ]
    }
   ],
   "source": [
    "numero_1 = 10 \n",
    "numero_2 = 7\n",
    "numero_3 = 4\n",
    "\n",
    "media_por100= numero_1 * 0.15 + numero_2 * 0.35+ numero_3* 0.50\n",
    "#media_por100 = media * 100\n",
    "print(\"la nota media porcentual es\", media_por100)"
   ]
  },
  {
   "cell_type": "code",
   "execution_count": 11,
   "id": "173b238b-fc83-4f2e-bb6d-bacc93df6a5b",
   "metadata": {},
   "outputs": [],
   "source": [
    "matriz = [\n",
    "    [1, 1, 1, 3],\n",
    "    [2, 2, 2, 7],\n",
    "    [3, 3, 3, 9],\n",
    "    [4, 4, 4, 13]\n",
    "]\n",
    "\n"
   ]
  },
  {
   "cell_type": "code",
   "execution_count": 12,
   "id": "d33cf0d4-7780-480f-9bd0-10c231450595",
   "metadata": {},
   "outputs": [],
   "source": [
    "matriz[1][-1] = sum (matriz [1][:-1])"
   ]
  },
  {
   "cell_type": "code",
   "execution_count": 13,
   "id": "9e4b8d36-b8c5-476b-9c64-5be1e877b292",
   "metadata": {},
   "outputs": [
    {
     "data": {
      "text/plain": [
       "[[1, 1, 1, 3], [2, 2, 2, 6], [3, 3, 3, 9], [4, 4, 4, 13]]"
      ]
     },
     "execution_count": 13,
     "metadata": {},
     "output_type": "execute_result"
    }
   ],
   "source": [
    "matriz"
   ]
  },
  {
   "cell_type": "code",
   "execution_count": 16,
   "id": "67979404-2ab3-4284-9f1a-0b3cecae98a2",
   "metadata": {},
   "outputs": [],
   "source": [
    "matriz [-1][-1] = sum (matriz [-1][:-1])"
   ]
  },
  {
   "cell_type": "code",
   "execution_count": 17,
   "id": "70b41ca0-f8c9-4b01-a375-ebf3068d10af",
   "metadata": {},
   "outputs": [
    {
     "data": {
      "text/plain": [
       "[[1, 1, 1, 3], [2, 2, 2, 6], [3, 3, 3, 9], [4, 4, 4, 12]]"
      ]
     },
     "execution_count": 17,
     "metadata": {},
     "output_type": "execute_result"
    }
   ],
   "source": [
    "matriz"
   ]
  },
  {
   "cell_type": "code",
   "execution_count": 18,
   "id": "a3fd8601-1ad2-4c7c-90ca-c283d35fbb50",
   "metadata": {},
   "outputs": [],
   "source": [
    "cadena = \"zeréP nauJ, 01\"\n"
   ]
  },
  {
   "cell_type": "code",
   "execution_count": 19,
   "id": "4838c480-ea45-4ab1-9923-e7ba6f937fc7",
   "metadata": {},
   "outputs": [],
   "source": [
    "cadena_correcta = cadena[::-1]"
   ]
  },
  {
   "cell_type": "code",
   "execution_count": 21,
   "id": "fa22d769-8bcc-406d-89b1-f9334975da25",
   "metadata": {},
   "outputs": [
    {
     "data": {
      "text/plain": [
       "'10 ,Juan Pérez'"
      ]
     },
     "execution_count": 21,
     "metadata": {},
     "output_type": "execute_result"
    }
   ],
   "source": [
    "cadena_correcta"
   ]
  },
  {
   "cell_type": "code",
   "execution_count": 31,
   "id": "079529d5-8899-4370-b2a6-a8314727ab5a",
   "metadata": {},
   "outputs": [],
   "source": [
    "calificacion = cadena_correcta[:3]\n",
    "nombre = cadena_correcta[4:8]\n",
    "apellido = cadena_correcta[9:]\n"
   ]
  },
  {
   "cell_type": "code",
   "execution_count": 35,
   "id": "286100f7-3292-4537-8853-35a480c52d3e",
   "metadata": {},
   "outputs": [
    {
     "data": {
      "text/plain": [
       "' Pérez'"
      ]
     },
     "execution_count": 35,
     "metadata": {},
     "output_type": "execute_result"
    }
   ],
   "source": [
    "apellido"
   ]
  },
  {
   "cell_type": "code",
   "execution_count": 39,
   "id": "114c86c0-cc21-4d7c-8236-e6a7b1aee421",
   "metadata": {},
   "outputs": [
    {
     "name": "stdout",
     "output_type": "stream",
     "text": [
      "Juan,  Pérez ha sacado un 10 \n"
     ]
    }
   ],
   "source": [
    "print(f\"{nombre}, {apellido} ha sacado un {calificacion}\")"
   ]
  },
  {
   "cell_type": "code",
   "execution_count": null,
   "id": "107ba938-3848-4907-a386-2696bba8a512",
   "metadata": {},
   "outputs": [],
   "source": []
  }
 ],
 "metadata": {
  "kernelspec": {
   "display_name": "Python 3 (ipykernel)",
   "language": "python",
   "name": "python3"
  },
  "language_info": {
   "codemirror_mode": {
    "name": "ipython",
    "version": 3
   },
   "file_extension": ".py",
   "mimetype": "text/x-python",
   "name": "python",
   "nbconvert_exporter": "python",
   "pygments_lexer": "ipython3",
   "version": "3.12.4"
  }
 },
 "nbformat": 4,
 "nbformat_minor": 5
}
