{
 "cells": [
  {
   "cell_type": "code",
   "execution_count": 4,
   "id": "4ace7456-7820-46a7-b643-8ada1bf083f5",
   "metadata": {},
   "outputs": [
    {
     "name": "stdin",
     "output_type": "stream",
     "text": [
      "Por favor introduce tu edad 17\n"
     ]
    },
    {
     "name": "stdout",
     "output_type": "stream",
     "text": [
      "Eres menor de edad\n"
     ]
    }
   ],
   "source": [
    "edad = int(input(\"Por favor introduce tu edad\"))\n",
    "if edad < 18:\n",
    "    print(\"Eres menor de edad\") \n",
    "else:\n",
    "    print(\"Eres mayor de edad\") "
   ]
  },
  {
   "cell_type": "code",
   "execution_count": 11,
   "id": "373b352c-b604-4e96-92fb-887e1a9777cd",
   "metadata": {},
   "outputs": [
    {
     "name": "stdin",
     "output_type": "stream",
     "text": [
      "introduce el 1er numero 4\n",
      "introduce el 2do numero 6\n"
     ]
    },
    {
     "name": "stdout",
     "output_type": "stream",
     "text": [
      "La división de 4.0 entre 6.0 es igual a: 0.6666666666666666\n"
     ]
    }
   ],
   "source": [
    "#Escribir un programa que pida al usuario 2 numeros y muestre en pantalla su division, si el divisor es 0 el programa debe mostrar error \n",
    "\n",
    "num1 = float(input(\"introduce el 1er numero\"))\n",
    "num2 = float(input(\"introduce el 2do numero\"))\n",
    "\n",
    "if num2 != 0:\n",
    "             print(\"La división de\", num1, \"entre\", num2, \"es igual a:\", (num1/num2)) \n",
    "else:\n",
    "             print(\"Haz cometido un error, no se puede dividir entre 0\") \n",
    "\n",
    "        "
   ]
  },
  {
   "cell_type": "code",
   "execution_count": 2,
   "id": "7ec0de9d-5804-4e7e-858e-a53627144e97",
   "metadata": {},
   "outputs": [
    {
     "name": "stdin",
     "output_type": "stream",
     "text": [
      "Introduce una frase de un personaje importante ERES MUY INTELIGENTE PAOLA\n"
     ]
    },
    {
     "name": "stdout",
     "output_type": "stream",
     "text": [
      "La frase que escribiste tiene 4 palabras\n"
     ]
    }
   ],
   "source": [
    "#Suponiendo que hemos introducido una cadena por teclado que representa una frase (palabras separadas por espacios), realiza un programa que cuente cuantas palabras tiene.\n",
    "\n",
    "frase = input(\"Introduce una frase de un personaje importante\") \n",
    "espacios = frase.count(\" \")\n",
    "print(\"La frase que escribiste tiene\", espacios + 1, \"palabras\") \n"
   ]
  },
  {
   "cell_type": "code",
   "execution_count": 5,
   "id": "c7159e82-f1bc-4318-8f75-ad1189fb7b53",
   "metadata": {},
   "outputs": [
    {
     "name": "stdin",
     "output_type": "stream",
     "text": [
      "Escribe tu nombre y apellidos en minusculas emma paola yerena garcia\n"
     ]
    },
    {
     "name": "stdout",
     "output_type": "stream",
     "text": [
      "Emma Paola Yerena Garcia\n"
     ]
    }
   ],
   "source": [
    "#Si tenemos una cadena con nombre y apellidos, realizar un programa que muestre las iniciales en mayusculas\n",
    "\n",
    "cadena = input(\"Escribe tu nombre y apellidos en minusculas\") \n",
    "formato = cadena.title()\n",
    "print(formato) "
   ]
  },
  {
   "cell_type": "code",
   "execution_count": null,
   "id": "e0f2d071-28b3-4337-97dc-f5fe92f6b6c2",
   "metadata": {},
   "outputs": [],
   "source": [
    "\"Realizar un programa que dada una cadena de caracteres por caracteres, genere otra cadena resultado de invertir la primera.\"\n",
    "\n",
    "frase = input(\"Introduce una frase de un personaje importante\") \n",
    "print(frase) "
   ]
  }
 ],
 "metadata": {
  "kernelspec": {
   "display_name": "Python 3 (ipykernel)",
   "language": "python",
   "name": "python3"
  },
  "language_info": {
   "codemirror_mode": {
    "name": "ipython",
    "version": 3
   },
   "file_extension": ".py",
   "mimetype": "text/x-python",
   "name": "python",
   "nbconvert_exporter": "python",
   "pygments_lexer": "ipython3",
   "version": "3.12.4"
  }
 },
 "nbformat": 4,
 "nbformat_minor": 5
}
