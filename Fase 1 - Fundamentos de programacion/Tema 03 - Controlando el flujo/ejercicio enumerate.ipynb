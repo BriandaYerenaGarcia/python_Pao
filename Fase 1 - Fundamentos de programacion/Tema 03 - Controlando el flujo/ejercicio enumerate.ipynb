{
 "cells": [
  {
   "cell_type": "code",
   "execution_count": 14,
   "id": "d23f13e3-e3a9-4217-9425-7a32fbdf8f8a",
   "metadata": {},
   "outputs": [
    {
     "name": "stdout",
     "output_type": "stream",
     "text": [
      "['H', 'm', 'd', 'l', 'p', 'V', 'N', 'd', 'A', 'D', 'T']\n"
     ]
    }
   ],
   "source": [
    "iniciales = [\"Hasta\", \"me\", \"duele\", \"la\", \"pinche\", \"Vulva\", \"Nomas\", \"de\", \"Acordarme\", \"De\", \"Ti\"]\n",
    "\n",
    "for i,cadena in enumerate(iniciales):\n",
    "    iniciales[i] = iniciales[i][0]\n",
    "\n",
    "print (iniciales) \n",
    "    \n",
    "    "
   ]
  },
  {
   "cell_type": "code",
   "execution_count": 33,
   "id": "f71e5e12-50a6-45b2-8f77-a4e7f5039083",
   "metadata": {},
   "outputs": [
    {
     "name": "stdin",
     "output_type": "stream",
     "text": [
      " 76\n",
      "Por favor escribe un número de 1 al 9 24\n",
      "Por favor escribe un número de 1 al 9 1\n"
     ]
    },
    {
     "name": "stdout",
     "output_type": "stream",
     "text": [
      "[1, 2, 3, 4, 5, 6, 7, 8, 9, 10, 11, 12, 13, 14, 15, 16, 17, 18, 19, 20, 21, 22, 23, 24, 25, 26, 27, 28, 29, 30, 31, 32, 33, 34, 35, 36, 37, 38, 39, 40, 41, 42, 43, 44, 45, 46, 47, 48, 49, 50, 51, 52, 53, 54, 55, 56, 57, 58, 59, 60, 61, 62, 63, 64, 65, 66, 67, 68, 69, 70, 71, 72, 73, 74, 75, 76, 77, 78, 79, 80, 81, 82, 83, 84, 85, 86, 87, 88, 89, 90, 91, 92, 93, 94, 95, 96, 97, 98, 99, 100]\n"
     ]
    }
   ],
   "source": [
    "numero = int(input())\n",
    "while numero not in range (1,10,1):\n",
    "    numero = int(input(\"Por favor escribe un número de 1 al 9\"))\n",
    "else: \n",
    "   if numero in range (1,10,1): \n",
    "       multiplos = list(range(numero,101,numero))\n",
    "       print (multiplos)\n",
    "    "
   ]
  },
  {
   "cell_type": "code",
   "execution_count": null,
   "id": "24ab802a-15c5-477d-95df-bff21bbca34e",
   "metadata": {},
   "outputs": [],
   "source": []
  },
  {
   "cell_type": "code",
   "execution_count": null,
   "id": "3a9930b9-7da6-46da-a83a-77a60821712b",
   "metadata": {},
   "outputs": [],
   "source": []
  },
  {
   "cell_type": "code",
   "execution_count": null,
   "id": "d909a733-0615-4a46-9389-72b6d13ce0cf",
   "metadata": {},
   "outputs": [],
   "source": []
  }
 ],
 "metadata": {
  "kernelspec": {
   "display_name": "Python 3 (ipykernel)",
   "language": "python",
   "name": "python3"
  },
  "language_info": {
   "codemirror_mode": {
    "name": "ipython",
    "version": 3
   },
   "file_extension": ".py",
   "mimetype": "text/x-python",
   "name": "python",
   "nbconvert_exporter": "python",
   "pygments_lexer": "ipython3",
   "version": "3.12.4"
  }
 },
 "nbformat": 4,
 "nbformat_minor": 5
}
