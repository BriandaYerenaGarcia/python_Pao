{
 "cells": [
  {
   "cell_type": "code",
   "execution_count": 41,
   "id": "80bd2f79-02f7-4de7-80bb-ca8dde505536",
   "metadata": {},
   "outputs": [
    {
     "name": "stdout",
     "output_type": "stream",
     "text": [
      "59\n"
     ]
    },
    {
     "name": "stdin",
     "output_type": "stream",
     "text": [
      "Introduce un número del 1 al 100 112\n"
     ]
    },
    {
     "name": "stdout",
     "output_type": "stream",
     "text": [
      "Ese número esta fuera de rango prueba con uno de 0 a 100\n"
     ]
    },
    {
     "name": "stdin",
     "output_type": "stream",
     "text": [
      "Introduce un número del 1 al 100 45\n"
     ]
    },
    {
     "name": "stdout",
     "output_type": "stream",
     "text": [
      "Prueba con un número más alto\n"
     ]
    },
    {
     "name": "stdin",
     "output_type": "stream",
     "text": [
      "Introduce un número del 1 al 100 57\n"
     ]
    },
    {
     "name": "stdout",
     "output_type": "stream",
     "text": [
      "Prueba con un número más alto\n"
     ]
    },
    {
     "name": "stdin",
     "output_type": "stream",
     "text": [
      "Introduce un número del 1 al 100 59\n"
     ]
    },
    {
     "name": "stdout",
     "output_type": "stream",
     "text": [
      "¡Lo lograste! El número es 59\n"
     ]
    }
   ],
   "source": [
    "import random\n",
    "num1 = random.randint(1,100)\n",
    "#print(num1)\n",
    "\n",
    "while (True): \n",
    "    numero = int(input(\"Introduce un número del 1 al 100\"))\n",
    "    if numero > num1 and numero <= 100:\n",
    "        print (\"Prueba con otro número más bajo\")\n",
    "    elif numero < num1:\n",
    "        print (\"Prueba con un número más alto\")\n",
    "    elif numero > 100:\n",
    "        print (\"Ese número esta fuera de rango prueba con uno de 0 a 100\")\n",
    "    else: \n",
    "        print(\"¡Lo lograste! El número es\", num1) \n",
    "        break \n",
    "\n",
    "\n"
   ]
  },
  {
   "cell_type": "code",
   "execution_count": null,
   "id": "3401e30c-17bf-493d-aba8-f6e9c4a71d96",
   "metadata": {},
   "outputs": [],
   "source": []
  }
 ],
 "metadata": {
  "kernelspec": {
   "display_name": "Python 3 (ipykernel)",
   "language": "python",
   "name": "python3"
  },
  "language_info": {
   "codemirror_mode": {
    "name": "ipython",
    "version": 3
   },
   "file_extension": ".py",
   "mimetype": "text/x-python",
   "name": "python",
   "nbconvert_exporter": "python",
   "pygments_lexer": "ipython3",
   "version": "3.12.4"
  }
 },
 "nbformat": 4,
 "nbformat_minor": 5
}
