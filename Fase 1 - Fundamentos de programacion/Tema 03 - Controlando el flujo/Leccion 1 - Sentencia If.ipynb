{
 "cells": [
  {
   "cell_type": "code",
   "execution_count": 1,
   "metadata": {},
   "outputs": [
    {
     "name": "stdout",
     "output_type": "stream",
     "text": [
      "Se cumple la condición\n",
      "También muestre estre print\n"
     ]
    }
   ],
   "source": [
    "if True: \n",
    "    print (\"Se cumple la condición\") \n",
    "    print (\"También muestre estre print\")"
   ]
  },
  {
   "cell_type": "code",
   "execution_count": 2,
   "metadata": {},
   "outputs": [
    {
     "name": "stdout",
     "output_type": "stream",
     "text": [
      "a vale 5\n"
     ]
    }
   ],
   "source": [
    "a = 5 \n",
    "if a == 2:\n",
    "    print( \"a vale 2\") \n",
    "if a ==5: \n",
    "    print( \"a vale 5\")"
   ]
  },
  {
   "cell_type": "code",
   "execution_count": 7,
   "metadata": {},
   "outputs": [
    {
     "name": "stdout",
     "output_type": "stream",
     "text": [
      "a vale 5\n",
      " y b vale 10\n"
     ]
    }
   ],
   "source": [
    "a = 5 \n",
    "b = 10 \n",
    "if a == 5: \n",
    "    print(\"a vale\", a) \n",
    "    if b == 10: \n",
    "        print(\" y b vale\", b) "
   ]
  },
  {
   "cell_type": "code",
   "execution_count": 17,
   "metadata": {},
   "outputs": [
    {
     "name": "stdout",
     "output_type": "stream",
     "text": [
      "a vale 5 y b vale 10\n"
     ]
    }
   ],
   "source": [
    "if a == 5 and b == 10: \n",
    "    print(\"a vale 5 y b vale 10\")"
   ]
  },
  {
   "cell_type": "code",
   "execution_count": 6,
   "metadata": {},
   "outputs": [
    {
     "name": "stdout",
     "output_type": "stream",
     "text": [
      "7 es un número inpar\n"
     ]
    }
   ],
   "source": [
    "#Else (sino) \n",
    "n = 7 \n",
    "if n% 2 == 0:\n",
    "    print(n,\"es un número par\") \n",
    "else:\n",
    "    print(n, \"es un número inpar\") \n"
   ]
  },
  {
   "cell_type": "code",
   "execution_count": 5,
   "metadata": {},
   "outputs": [
    {
     "name": "stdout",
     "output_type": "stream",
     "text": [
      "Bienvenido al sistema\n"
     ]
    }
   ],
   "source": [
    "#Elif (Sino si)  Util para crear menus o comandos \n",
    "comando = \"ENTRAR\" \n",
    "if comando == \"ENTRAR\": \n",
    "    print( \"Bienvenido al sistema\") \n",
    "elif comando == \"SALUDAR\": \n",
    "    print(\"Hola, espero que te lo estés pasando bien aprendiendo Python\") \n",
    "elif comando == \"SALIR\": \n",
    "    print ( \"Saliendo del sistema...\")\n",
    "else: \n",
    "    print(\"Este comando no se reconoce\")\n",
    "    \n"
   ]
  },
  {
   "cell_type": "code",
   "execution_count": 7,
   "metadata": {},
   "outputs": [
    {
     "name": "stdin",
     "output_type": "stream",
     "text": [
      "Introduce una nota:  10\n"
     ]
    },
    {
     "name": "stdout",
     "output_type": "stream",
     "text": [
      "Sobresaliente\n"
     ]
    }
   ],
   "source": [
    "nota = float(input(\"Introduce una nota: \"))\n",
    "if nota >= 9: \n",
    "    print(\"Sobresaliente\")\n",
    "elif nota >= 7: \n",
    "    print(\"Notable\")\n",
    "elif nota >= 6: \n",
    "    print(\"Bien\")\n",
    "else: \n",
    "    print (\"Insuficiente\") "
   ]
  },
  {
   "cell_type": "code",
   "execution_count": 23,
   "metadata": {},
   "outputs": [
    {
     "name": "stdin",
     "output_type": "stream",
     "text": [
      "Introduce una nota:  8\n"
     ]
    }
   ],
   "source": [
    "# El mismo ejemplo de arriba pero con switch - case\n",
    "\n",
    "calificacion = input(\"Introduce una nota: \") \n",
    "cal = float (calificacion)\n",
    "match cal: \n",
    "    case \"9\": \n",
    "         print(\"ñoño\")\n",
    "    case  \"7\": \n",
    "        print (\"Notable\") \n",
    "    case \"6\": \n",
    "        print (\"Bien\") \n",
    "    case \"5\": \n",
    "        print (\"Insuficiente\") \n",
    "    case _: \n",
    "        if cal <5:\n",
    "            print (\"Burrisimo\") \n",
    "        \n"
   ]
  },
  {
   "cell_type": "code",
   "execution_count": null,
   "metadata": {},
   "outputs": [],
   "source": []
  },
  {
   "cell_type": "code",
   "execution_count": null,
   "metadata": {},
   "outputs": [],
   "source": []
  }
 ],
 "metadata": {
  "kernelspec": {
   "display_name": "Python 3 (ipykernel)",
   "language": "python",
   "name": "python3"
  },
  "language_info": {
   "codemirror_mode": {
    "name": "ipython",
    "version": 3
   },
   "file_extension": ".py",
   "mimetype": "text/x-python",
   "name": "python",
   "nbconvert_exporter": "python",
   "pygments_lexer": "ipython3",
   "version": "3.12.4"
  }
 },
 "nbformat": 4,
 "nbformat_minor": 4
}
