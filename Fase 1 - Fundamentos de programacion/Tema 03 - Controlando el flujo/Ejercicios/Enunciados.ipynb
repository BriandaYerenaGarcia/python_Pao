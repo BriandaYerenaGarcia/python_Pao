{
 "cells": [
  {
   "cell_type": "markdown",
   "metadata": {},
   "source": [
    "# Tema 03: Control de flujo (Enunciados)\n",
    "*Nota: Estos ejercicios son optativos para hacer al final de la unidad y están pensados para apoyar tu aprendizaje*."
   ]
  },
  {
   "cell_type": "markdown",
   "metadata": {},
   "source": [
    "**1) Realiza un programa que lea dos números por teclado y permita elegir entre 3 opciones en un menú:** \n",
    "* Mostrar una suma de los dos números\n",
    "* Mostrar una resta de los dos números (el primero menos el segundo)\n",
    "* Mostrar una multiplicación de los dos números\n",
    "* En caso de no introducir una opción válida, el programa informará de que no es correcta."
   ]
  },
  {
   "cell_type": "code",
   "execution_count": null,
   "metadata": {
    "collapsed": false,
    "jupyter": {
     "outputs_hidden": false
    }
   },
   "outputs": [],
   "source": [
    "# Completa el ejercicio aquí\n",
    "numero_1 = float(input(\"Escribe el primer número\"))\n",
    "numero_2 = float(input(\"Escribe el segundo número\"))\n",
    "opcion = 0 \n",
    "print (\"\"\"Decide que es lo que quieres que hagamos con esos número \n",
    "1) Sumar los dos números \n",
    "2) Restar los dos números \n",
    "3) Multiplicar los dos números\"\"\") \n",
    "opcion = int(input(\"Introduce un número que corresponda a las opciones anteriores\"))\n",
    "if opcion == 1:\n",
    "    print (\"El resultado de la suma es\", numero_1 + numero_2) \n",
    "elif opcion == 2: \n",
    "    print (\"El resultado de la resta es\", numero_1 - numero_2) \n",
    "elif opcion == 3: \n",
    "    print (\"El resultado de la multiplicación es\", numero_1 * numero_2) \n",
    "else: \n",
    "    print (\"Esa opción no es válida\") \n",
    "\n",
    "    \n",
    "    \n",
    "\n"
   ]
  },
  {
   "cell_type": "markdown",
   "metadata": {},
   "source": [
    "**2) Realiza un programa que lea un número impar por teclado. Si el usuario no introduce un número impar, debe repetise el proceso hasta que lo introduzca correctamente.**"
   ]
  },
  {
   "cell_type": "code",
   "execution_count": null,
   "metadata": {
    "collapsed": false,
    "jupyter": {
     "outputs_hidden": false
    }
   },
   "outputs": [],
   "source": [
    "# Completa el ejercicio aquí\n",
    "#inpar = float(input(\"Introduce un número inpar)) \n",
    "while (True): \n",
    " inpar = float(input(\"Introduce un número inpar\"))\n",
    " if inpar % 2 == 1: \n",
    "  break \n",
    " #else: (\"Ese es un número par, intenta con uno distinto\")\n",
    "\n"
   ]
  },
  {
   "cell_type": "markdown",
   "metadata": {},
   "source": [
    "**3) Realiza un programa que sume todos los números enteros pares desde el 0 hasta el 100:**\n",
    "\n",
    "*Sugerencia: Puedes utilizar la funciones sum() y range() para hacerlo más fácil. El tercer parámetro en la función range(inicio, fin, salto) indica un salto de números, pruébalo.*"
   ]
  },
  {
   "cell_type": "code",
   "execution_count": null,
   "metadata": {
    "collapsed": false,
    "jupyter": {
     "outputs_hidden": false
    }
   },
   "outputs": [],
   "source": [
    "# Completa el ejercicio aquí\n",
    "numeros = 100 \n",
    "sumatorio = 0 \n",
    "\n",
    "for numero in (range(numeros +1)): \n",
    "    if numero % 2 == 1: \n",
    "        continue \n",
    "    sumatorio += numero \n",
    "\n",
    "sumatorio"
   ]
  },
  {
   "cell_type": "markdown",
   "metadata": {},
   "source": [
    "**4) Realiza un programa que pida al usuario cuantos números quiere introducir. Luego lee todos los números y realiza una media aritmética:**\n"
   ]
  },
  {
   "cell_type": "code",
   "execution_count": null,
   "metadata": {
    "collapsed": false,
    "jupyter": {
     "outputs_hidden": false
    }
   },
   "outputs": [],
   "source": [
    "### Completa el ejercicio aquí\n",
    "\n",
    "numeros = int(input(\"Cuantos números quieres introducir\"))\n",
    "mi_lista = []\n",
    "contador = 0 \n",
    "while contador < numeros:\n",
    "    n = int(input(\"Dame un número\")) \n",
    "    mi_lista.append(n) \n",
    "    #print (mi_lista)\n",
    "    contador = contador + 1 \n",
    "print (\"La media es\", sum(mi_lista)/numeros)\n",
    "    \n",
    "\n"
   ]
  },
  {
   "cell_type": "markdown",
   "metadata": {},
   "source": [
    "**5) Realiza un programa que pida al usuario un número entero del 0 al 9, y que mientras el número no sea correcto se repita el proceso. Luego debe comprobar si el número se encuentra en la lista de números y notificarlo:**\n",
    "\n",
    "*Consejo: La sintaxis \"valor in lista\" permite comprobar fácilmente si un valor se encuentra en una lista (devuelve True o False)*"
   ]
  },
  {
   "cell_type": "code",
   "execution_count": 1,
   "metadata": {
    "collapsed": false,
    "jupyter": {
     "outputs_hidden": false
    }
   },
   "outputs": [
    {
     "name": "stdin",
     "output_type": "stream",
     "text": [
      "Introduce un número válido de 0 a 9 9\n"
     ]
    },
    {
     "name": "stdout",
     "output_type": "stream",
     "text": [
      "Ese número se encuentra en la lista\n"
     ]
    }
   ],
   "source": [
    "# Completa el ejercicio aquí\n",
    "numeros = [1, 3, 6, 9]\n",
    "\n",
    "entero = 36\n",
    "while entero not in range (0,10):\n",
    "    entero = int(input (\"Introduce un número válido de 0 a 9\"))\n",
    "else:\n",
    "    if entero in numeros: \n",
    "        print (\"Ese número se encuentra en la lista\")\n",
    "    else: \n",
    "        print (\"Ese número no esta en la lista\") \n",
    "\n",
    "\n"
   ]
  },
  {
   "cell_type": "markdown",
   "metadata": {},
   "source": [
    "**6) Utilizando la función range() y la conversión a listas genera las siguientes listas dinámicamente:**\n",
    "* Todos los números del 0 al 10 [0, 1, 2, ..., 10]\n",
    "* Todos los números del -10 al 0 [-10, -9, -8, ..., 0]\n",
    "* Todos los números pares del 0 al 20 [0, 2, 4, ..., 20]\n",
    "* Todos los números impares entre -20 y 0 [-19, -17, -15, ..., -1]\n",
    "* Todos los números múltiples de 5 del 0 al 50 [0, 5, 10, ..., 50]\n",
    "\n",
    "*Pista: Utiliza el tercer parámetro de la función range(inicio, fin, salto).*"
   ]
  },
  {
   "cell_type": "code",
   "execution_count": 1,
   "metadata": {
    "collapsed": false,
    "jupyter": {
     "outputs_hidden": false
    }
   },
   "outputs": [],
   "source": [
    "# Completa el ejercicio\n",
    "list_1 = list(range(11))\n",
    "\n",
    "list_2 = list(range(-10,1))\n",
    "\n",
    "list_3 = list(range(0,22,2))\n",
    "\n",
    "list_4 = list(range(-19,0,2))\n",
    "\n",
    "list_5 = list(range(0,51,5))\n",
    "\n"
   ]
  },
  {
   "cell_type": "markdown",
   "metadata": {},
   "source": [
    "**7) Dadas dos listas, debes generar una tercera con todos los elementos que se repitan en ellas, pero no debe repetise ningún elemento en la nueva lista:**"
   ]
  },
  {
   "cell_type": "code",
   "execution_count": 45,
   "metadata": {
    "collapsed": false,
    "jupyter": {
     "outputs_hidden": false
    }
   },
   "outputs": [
    {
     "name": "stdout",
     "output_type": "stream",
     "text": [
      "[3, 9, 15, 18]\n"
     ]
    }
   ],
   "source": [
    "# Completa el ejercicio aquí\n",
    "\n",
    "lista1 = [1,3,5,7,9,15,17,18]\n",
    "lista2= [3,6,9,12,15,18]\n",
    "lista3= []\n",
    "\n",
    "for numero in lista1:\n",
    "    if numero in lista2 and numero not in lista3:\n",
    "        lista3.append(numero)\n",
    "\n",
    "print(lista3)\n",
    "\n"
   ]
  },
  {
   "cell_type": "code",
   "execution_count": null,
   "metadata": {},
   "outputs": [],
   "source": []
  },
  {
   "cell_type": "code",
   "execution_count": null,
   "metadata": {},
   "outputs": [],
   "source": []
  },
  {
   "cell_type": "code",
   "execution_count": null,
   "metadata": {},
   "outputs": [],
   "source": []
  }
 ],
 "metadata": {
  "anaconda-cloud": {},
  "kernelspec": {
   "display_name": "Python 3 (ipykernel)",
   "language": "python",
   "name": "python3"
  },
  "language_info": {
   "codemirror_mode": {
    "name": "ipython",
    "version": 3
   },
   "file_extension": ".py",
   "mimetype": "text/x-python",
   "name": "python",
   "nbconvert_exporter": "python",
   "pygments_lexer": "ipython3",
   "version": "3.12.4"
  }
 },
 "nbformat": 4,
 "nbformat_minor": 4
}
