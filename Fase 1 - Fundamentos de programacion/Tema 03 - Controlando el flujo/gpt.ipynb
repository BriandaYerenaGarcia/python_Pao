{
 "cells": [
  {
   "cell_type": "code",
   "execution_count": 2,
   "id": "4ed0d5c8-228c-4882-a26e-fb76bcdf317a",
   "metadata": {},
   "outputs": [
    {
     "name": "stdout",
     "output_type": "stream",
     "text": [
      "1\n",
      "2\n",
      "3\n",
      "4\n",
      "5\n",
      "6\n",
      "7\n",
      "8\n",
      "9\n",
      "10\n"
     ]
    }
   ],
   "source": [
    "#Numero del 1 al 10 ciclo while \n",
    "n = 0 \n",
    "while n <= 9:\n",
    "    n+= 1\n",
    "    print(n)"
   ]
  },
  {
   "cell_type": "code",
   "execution_count": 4,
   "id": "272ba9c6-9c19-4528-b4ac-03bc3452bf2f",
   "metadata": {},
   "outputs": [
    {
     "name": "stdout",
     "output_type": "stream",
     "text": [
      "1\n",
      "2\n",
      "3\n",
      "4\n",
      "5\n",
      "6\n",
      "7\n",
      "8\n",
      "9\n",
      "10\n"
     ]
    }
   ],
   "source": [
    "#Numero del 1 al 10 ciclo for \n",
    "\n",
    "a = 0 \n",
    "for a in range (1,11,1): \n",
    "    print (a) "
   ]
  },
  {
   "cell_type": "code",
   "execution_count": 14,
   "id": "6fae8d19-1d42-47bc-b5ba-5d3a9f485403",
   "metadata": {},
   "outputs": [
    {
     "name": "stdin",
     "output_type": "stream",
     "text": [
      "Por favor dame un número entero 29\n"
     ]
    },
    {
     "name": "stdout",
     "output_type": "stream",
     "text": [
      "El total de la suma del 1 hasta su numero es 435\n"
     ]
    }
   ],
   "source": [
    "#Pido a usuario un número x e imprimo la suma de los números de 1 hasta x \n",
    "\n",
    "x = int(input(\"Por favor dame un número entero\"))\n",
    "sumatorio = 0 \n",
    "\n",
    "for x in (range(x+1)):\n",
    "    sumatorio = sumatorio + x\n",
    "\n",
    "print(\"El total de la suma del 1 hasta su numero es\", sumatorio)\n"
   ]
  },
  {
   "cell_type": "code",
   "execution_count": 7,
   "id": "aefe133c-c9f0-4893-9de1-a3eec42ac2c5",
   "metadata": {},
   "outputs": [
    {
     "name": "stdin",
     "output_type": "stream",
     "text": [
      "Por favor dame un número entero 24\n"
     ]
    },
    {
     "data": {
      "text/plain": [
       "[24, 48, 72, 96, 120, 144, 168, 192, 216, 240]"
      ]
     },
     "execution_count": 7,
     "metadata": {},
     "output_type": "execute_result"
    }
   ],
   "source": [
    "#Imprime una tabla de multiplicar - usuario me da número y le imprimo la tabla de multiplicar del 1 al 10 \n",
    "z = int(input(\"Por favor dame un número entero\"))\n",
    "indice = 0 \n",
    "numeros = [1,2,3,4,5,6,7,8,9,10]\n",
    "for numero in numeros: \n",
    "    numeros[indice] *= z \n",
    "    indice +=1\n",
    "numeros\n",
    "\n"
   ]
  },
  {
   "cell_type": "code",
   "execution_count": 22,
   "id": "2b8c4c4f-0d59-439f-baf3-a0b5f7ee9f42",
   "metadata": {},
   "outputs": [
    {
     "name": "stdin",
     "output_type": "stream",
     "text": [
      "Por favor dame una palabra 7\n"
     ]
    },
    {
     "name": "stdout",
     "output_type": "stream",
     "text": [
      "1\n"
     ]
    }
   ],
   "source": [
    "#Contar letras en una plabra \n",
    "cadena = str(input(\"Por favor dame una palabra\"))\n",
    "#for caracter in cadena:\n",
    "print(len(cadena))"
   ]
  },
  {
   "cell_type": "code",
   "execution_count": 27,
   "id": "6e2a56c6-504f-4643-853e-10c139ee1609",
   "metadata": {},
   "outputs": [
    {
     "name": "stdout",
     "output_type": "stream",
     "text": [
      "0\n",
      "2\n",
      "4\n",
      "6\n",
      "8\n",
      "10\n",
      "12\n",
      "14\n",
      "16\n",
      "18\n",
      "20\n",
      "22\n",
      "24\n",
      "26\n",
      "28\n",
      "30\n",
      "32\n",
      "34\n",
      "36\n",
      "38\n",
      "40\n",
      "42\n",
      "44\n",
      "46\n",
      "48\n",
      "50\n"
     ]
    }
   ],
   "source": [
    "for n in range(0,51,2):\n",
    "    print(n)"
   ]
  },
  {
   "cell_type": "code",
   "execution_count": 61,
   "id": "4998536b-d440-43cd-843b-92064b6607d3",
   "metadata": {},
   "outputs": [
    {
     "name": "stdin",
     "output_type": "stream",
     "text": [
      "Por favor dame un número 7\n"
     ]
    },
    {
     "name": "stdout",
     "output_type": "stream",
     "text": [
      "La suma de los números pares hasta tu número es de 12\n",
      "La suma de los números nones hasta tu número es de 16\n"
     ]
    }
   ],
   "source": [
    "num = int(input(\"Por favor dame un número\"))\n",
    "sumatorio1 = 0\n",
    "sumatorio2 = 0 \n",
    "for num in range(0,num+1):\n",
    "    if num % 2 == 0:\n",
    "        sumatorio1 = sumatorio1 + num\n",
    "        #print(sumatorio1)\n",
    "    else:\n",
    "        sumatorio2 = sumatorio2 + num\n",
    "        #print(f\"sumanon: {sumatorio2}\")\n",
    "\n",
    "print(\"La suma de los números pares hasta tu número es de\",sumatorio1)\n",
    "print(\"La suma de los números nones hasta tu número es de\", sumatorio2)"
   ]
  },
  {
   "cell_type": "code",
   "execution_count": null,
   "id": "fceddcb5-97e8-4455-91f6-d3be9cc8bbfd",
   "metadata": {},
   "outputs": [],
   "source": []
  }
 ],
 "metadata": {
  "kernelspec": {
   "display_name": "Python 3 (ipykernel)",
   "language": "python",
   "name": "python3"
  },
  "language_info": {
   "codemirror_mode": {
    "name": "ipython",
    "version": 3
   },
   "file_extension": ".py",
   "mimetype": "text/x-python",
   "name": "python",
   "nbconvert_exporter": "python",
   "pygments_lexer": "ipython3",
   "version": "3.12.4"
  }
 },
 "nbformat": 4,
 "nbformat_minor": 5
}
