{
 "cells": [
  {
   "cell_type": "code",
   "execution_count": 1,
   "metadata": {},
   "outputs": [
    {
     "name": "stdout",
     "output_type": "stream",
     "text": [
      "c vale 1\n",
      "c vale 2\n",
      "c vale 3\n",
      "c vale 4\n",
      "c vale 5\n",
      "c vale 6\n"
     ]
    }
   ],
   "source": [
    "#Iteracion - realizar una acción varias veces \n",
    "\n",
    "c =  0 \n",
    "while c <= 5: \n",
    "    c+= 1 \n",
    "    print(\"c vale\",c)\n"
   ]
  },
  {
   "cell_type": "code",
   "execution_count": 2,
   "metadata": {},
   "outputs": [
    {
     "name": "stdout",
     "output_type": "stream",
     "text": [
      "c vale 1\n",
      "c vale 2\n",
      "c vale 3\n",
      "c vale 4\n",
      "c vale 5\n",
      "c vale 6\n",
      "Se ha completado toda la iteración y c vale 6\n"
     ]
    }
   ],
   "source": [
    "\n",
    "c =  0 \n",
    "while c <= 5: \n",
    "    c+= 1 \n",
    "    print(\"c vale\",c)\n",
    "else: \n",
    "    print(\"Se ha completado toda la iteración y c vale\", c) "
   ]
  },
  {
   "cell_type": "code",
   "execution_count": 5,
   "metadata": {},
   "outputs": [
    {
     "name": "stdout",
     "output_type": "stream",
     "text": [
      "c vale 1\n",
      "c vale 2\n",
      "c vale 3\n",
      "Rompemos el bucle cuando c vale 4\n"
     ]
    }
   ],
   "source": [
    "#ROmper bucle \n",
    "c =  0 \n",
    "while c <= 5: \n",
    "    c+= 1 \n",
    "    if (c==4): \n",
    "        print(\"Rompemos el bucle cuando c vale\",c)\n",
    "        break\n",
    "    print(\"c vale\",c)\n",
    "else: \n",
    "    print(\"Se ha completado toda la iteración y c vale\", c) "
   ]
  },
  {
   "cell_type": "code",
   "execution_count": 2,
   "metadata": {},
   "outputs": [
    {
     "name": "stdout",
     "output_type": "stream",
     "text": [
      "c vale 1\n",
      "c vale 3\n",
      "c vale 5\n",
      "c vale 6\n",
      "Se ha completado toda la iteración y c vale 6\n"
     ]
    }
   ],
   "source": [
    "#Saltar \n",
    "c =  0 \n",
    "while c <= 5: \n",
    "    c+= 1 \n",
    "    if c==2 or c==4: \n",
    "        #print(\"Continuamos con la siguiente iteración\",c)\n",
    "        continue\n",
    "    print(\"c vale\",c)\n",
    "else: \n",
    "    print(\"Se ha completado toda la iteración y c vale\", c) "
   ]
  },
  {
   "cell_type": "code",
   "execution_count": 10,
   "metadata": {},
   "outputs": [
    {
     "name": "stdout",
     "output_type": "stream",
     "text": [
      "Bienvenido al menú interactivo\n",
      "¿Qué quieres hacer? Escribe una opción \n",
      "    1) Saludar \n",
      "    2) Sumar 2 números \n",
      "    3) Salir\n"
     ]
    },
    {
     "name": "stdin",
     "output_type": "stream",
     "text": [
      " 1\n"
     ]
    },
    {
     "name": "stdout",
     "output_type": "stream",
     "text": [
      "Hola, gusto saludarte\n",
      "¿Qué quieres hacer? Escribe una opción \n",
      "    1) Saludar \n",
      "    2) Sumar 2 números \n",
      "    3) Salir\n"
     ]
    },
    {
     "name": "stdin",
     "output_type": "stream",
     "text": [
      " 2\n",
      "Introduce el primer número 3\n",
      "Introduce el segundo número 1.5\n"
     ]
    },
    {
     "name": "stdout",
     "output_type": "stream",
     "text": [
      "El resultado de la suma es:  4.5\n",
      "¿Qué quieres hacer? Escribe una opción \n",
      "    1) Saludar \n",
      "    2) Sumar 2 números \n",
      "    3) Salir\n"
     ]
    },
    {
     "name": "stdin",
     "output_type": "stream",
     "text": [
      " 6\n"
     ]
    },
    {
     "name": "stdout",
     "output_type": "stream",
     "text": [
      "Comando desconocido, vuelve a intentarlo\n",
      "¿Qué quieres hacer? Escribe una opción \n",
      "    1) Saludar \n",
      "    2) Sumar 2 números \n",
      "    3) Salir\n"
     ]
    },
    {
     "name": "stdin",
     "output_type": "stream",
     "text": [
      " 3\n"
     ]
    },
    {
     "name": "stdout",
     "output_type": "stream",
     "text": [
      "¡Hasta luego! Ha sido un placer ayudarte\n"
     ]
    }
   ],
   "source": [
    "print(\"Bienvenido al menú interactivo\") \n",
    "while (True): #Bucle infinito \n",
    "    print(\"\"\"¿Qué quieres hacer? Escribe una opción \n",
    "    1) Saludar \n",
    "    2) Sumar 2 números \n",
    "    3) Salir\"\"\")\n",
    "    opcion = input() \n",
    "    if opcion == '1':\n",
    "        print(\"Hola, gusto saludarte\") \n",
    "    elif opcion == '2':\n",
    "        n1 = float(input(\"Introduce el primer número\"))\n",
    "        n2 = float(input(\"Introduce el segundo número\"))\n",
    "        print(\"El resultado de la suma es: \",n1 + n2) \n",
    "    elif opcion == '3':\n",
    "        print(\"¡Hasta luego! Ha sido un placer ayudarte\") \n",
    "        break\n",
    "    else: \n",
    "        print(\"Comando desconocido, vuelve a intentarlo\") "
   ]
  },
  {
   "cell_type": "code",
   "execution_count": 45,
   "metadata": {},
   "outputs": [
    {
     "name": "stdin",
     "output_type": "stream",
     "text": [
      "Introduce un número 19\n"
     ]
    },
    {
     "name": "stdout",
     "output_type": "stream",
     "text": [
      "Prueba otra vez\n"
     ]
    },
    {
     "name": "stdin",
     "output_type": "stream",
     "text": [
      "Introduce un número 35\n"
     ]
    },
    {
     "name": "stdout",
     "output_type": "stream",
     "text": [
      "Numero multiplo de 5\n"
     ]
    }
   ],
   "source": [
    "\n",
    "\n",
    "while (True):\n",
    "    numero = float (input(\"Introduce un número\"))\n",
    "   \n",
    "    if  numero % 5 > 0:\n",
    "        print (\"Prueba otra vez\") \n",
    "    else: \n",
    "        print(\"Numero multiplo de 5\")\n",
    "        break \n",
    "\n",
    "  \n",
    "\n"
   ]
  },
  {
   "cell_type": "code",
   "execution_count": 4,
   "metadata": {},
   "outputs": [
    {
     "name": "stdin",
     "output_type": "stream",
     "text": [
      "Introduce un número 8\n"
     ]
    },
    {
     "name": "stdout",
     "output_type": "stream",
     "text": [
      "Prueba con otro número\n"
     ]
    },
    {
     "name": "stdin",
     "output_type": "stream",
     "text": [
      "Introduce un número 19\n"
     ]
    },
    {
     "name": "stdout",
     "output_type": "stream",
     "text": [
      "Prueba con otro número\n"
     ]
    },
    {
     "name": "stdin",
     "output_type": "stream",
     "text": [
      "Introduce un número 20\n"
     ]
    },
    {
     "name": "stdout",
     "output_type": "stream",
     "text": [
      "¡Lo lograste! El número es múltiplo de 5\n"
     ]
    }
   ],
   "source": [
    "while (True): \n",
    "    numero = float(input(\"Introduce un número\"))\n",
    "    if numero % 5 > 0: \n",
    "        print (\"Prueba con otro número\")\n",
    "    else: \n",
    "        print(\"¡Lo lograste! El número es múltiplo de 5\") \n",
    "        break "
   ]
  },
  {
   "cell_type": "code",
   "execution_count": null,
   "metadata": {},
   "outputs": [],
   "source": []
  }
 ],
 "metadata": {
  "kernelspec": {
   "display_name": "Python 3 (ipykernel)",
   "language": "python",
   "name": "python3"
  },
  "language_info": {
   "codemirror_mode": {
    "name": "ipython",
    "version": 3
   },
   "file_extension": ".py",
   "mimetype": "text/x-python",
   "name": "python",
   "nbconvert_exporter": "python",
   "pygments_lexer": "ipython3",
   "version": "3.12.4"
  }
 },
 "nbformat": 4,
 "nbformat_minor": 4
}
