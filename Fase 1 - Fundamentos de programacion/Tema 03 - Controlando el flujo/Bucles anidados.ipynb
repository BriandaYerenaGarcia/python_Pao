{
 "cells": [
  {
   "cell_type": "code",
   "execution_count": 1,
   "id": "ca4a5916-5291-4501-baa0-c8a6bceac31f",
   "metadata": {},
   "outputs": [],
   "source": [
    "lista = [\"Hola\", 10,\"Adiós\", [50,100, 150]]"
   ]
  },
  {
   "cell_type": "code",
   "execution_count": 2,
   "id": "5a175b1a-af9d-4523-92e6-e5e1f2248a8d",
   "metadata": {},
   "outputs": [
    {
     "data": {
      "text/plain": [
       "[50, 100, 150]"
      ]
     },
     "execution_count": 2,
     "metadata": {},
     "output_type": "execute_result"
    }
   ],
   "source": [
    "lista[-1]"
   ]
  },
  {
   "cell_type": "code",
   "execution_count": 3,
   "id": "222c7df6-f779-449e-bd4b-99da617480e5",
   "metadata": {},
   "outputs": [
    {
     "data": {
      "text/plain": [
       "150"
      ]
     },
     "execution_count": 3,
     "metadata": {},
     "output_type": "execute_result"
    }
   ],
   "source": [
    "lista [-1][-1]"
   ]
  },
  {
   "cell_type": "code",
   "execution_count": 10,
   "id": "87b69eb6-844f-4080-9146-ac9867a6cec2",
   "metadata": {},
   "outputs": [
    {
     "name": "stdout",
     "output_type": "stream",
     "text": [
      "50\n",
      "100\n",
      "150\n"
     ]
    }
   ],
   "source": [
    "for numero in lista[-1]:\n",
    "    print(numero)"
   ]
  },
  {
   "cell_type": "code",
   "execution_count": 11,
   "id": "744aeeba-d898-4cc3-a7f2-a8854a0826c5",
   "metadata": {},
   "outputs": [],
   "source": [
    "#Cuando una lista se encuentra entre colecciones iterables, por ejemplo listas,\n",
    "#Cadenas o tuplas o diccionarios --->podemos recorrer dinamicamente los sub elementos \n",
    "# mediante Anidación de dos bucles for \n"
   ]
  },
  {
   "cell_type": "code",
   "execution_count": 12,
   "id": "541b3c28-d6c5-458b-9398-eb02121addd0",
   "metadata": {},
   "outputs": [],
   "source": [
    "lista = [\n",
    "    \"Esto es un texto\",           #Cadena \n",
    "    (1, 5, 10, 15, 20, 25),       #Tupla \n",
    "    [\"Azul\", \"Verde\", \"Amarillo\"] #lista \n",
    "]"
   ]
  },
  {
   "cell_type": "code",
   "execution_count": 13,
   "id": "4ab832fa-b542-4a79-adc3-32bcd76dc0a0",
   "metadata": {},
   "outputs": [
    {
     "name": "stdout",
     "output_type": "stream",
     "text": [
      "Esto es un texto\n",
      "(1, 5, 10, 15, 20, 25)\n",
      "['Azul', 'Verde', 'Amarillo']\n"
     ]
    }
   ],
   "source": [
    "for coleccion in lista: \n",
    "    print(coleccion)"
   ]
  },
  {
   "cell_type": "code",
   "execution_count": 14,
   "id": "cbdafa16-af06-4f01-b3f0-0b627044ff8a",
   "metadata": {},
   "outputs": [
    {
     "name": "stdout",
     "output_type": "stream",
     "text": [
      "Esto es un texto --> E\n",
      "Esto es un texto --> s\n",
      "Esto es un texto --> t\n",
      "Esto es un texto --> o\n",
      "Esto es un texto -->  \n",
      "Esto es un texto --> e\n",
      "Esto es un texto --> s\n",
      "Esto es un texto -->  \n",
      "Esto es un texto --> u\n",
      "Esto es un texto --> n\n",
      "Esto es un texto -->  \n",
      "Esto es un texto --> t\n",
      "Esto es un texto --> e\n",
      "Esto es un texto --> x\n",
      "Esto es un texto --> t\n",
      "Esto es un texto --> o\n",
      "(1, 5, 10, 15, 20, 25) --> 1\n",
      "(1, 5, 10, 15, 20, 25) --> 5\n",
      "(1, 5, 10, 15, 20, 25) --> 10\n",
      "(1, 5, 10, 15, 20, 25) --> 15\n",
      "(1, 5, 10, 15, 20, 25) --> 20\n",
      "(1, 5, 10, 15, 20, 25) --> 25\n",
      "['Azul', 'Verde', 'Amarillo'] --> Azul\n",
      "['Azul', 'Verde', 'Amarillo'] --> Verde\n",
      "['Azul', 'Verde', 'Amarillo'] --> Amarillo\n"
     ]
    }
   ],
   "source": [
    "for coleccion in lista: \n",
    "    for elemento in coleccion: \n",
    "        print(coleccion, \"-->\",elemento)"
   ]
  },
  {
   "cell_type": "code",
   "execution_count": 18,
   "id": "94b72fa1-79f0-4874-8e26-feb7f728b580",
   "metadata": {},
   "outputs": [
    {
     "name": "stdout",
     "output_type": "stream",
     "text": [
      "Esto es un texto --> E\n",
      "Esto es un texto --> s\n",
      "Esto es un texto --> t\n",
      "Esto es un texto --> o\n",
      "Esto es un texto -->  \n",
      "Esto es un texto --> e\n",
      "Esto es un texto --> s\n",
      "Esto es un texto -->  \n",
      "Esto es un texto --> u\n",
      "Esto es un texto --> n\n",
      "Esto es un texto -->  \n",
      "Esto es un texto --> t\n",
      "Esto es un texto --> e\n",
      "Esto es un texto --> x\n",
      "Esto es un texto --> t\n",
      "Esto es un texto --> o\n",
      "(1, 5, 10, 15, 20, 25) --> 1\n",
      "(1, 5, 10, 15, 20, 25) --> 5\n",
      "(1, 5, 10, 15, 20, 25) --> 10\n",
      "(1, 5, 10, 15, 20, 25) --> 15\n",
      "(1, 5, 10, 15, 20, 25) --> 20\n",
      "(1, 5, 10, 15, 20, 25) --> 25\n",
      "['Azul', 'Verde', 'Amarillo'] --> Azul\n",
      "['Azul', 'Verde', 'Amarillo'] --> Verde\n",
      "['Azul', 'Verde', 'Amarillo'] --> Amarillo\n"
     ]
    }
   ],
   "source": [
    "for indice_coleccion, coleccion in enumerate(lista): \n",
    "    for indice_elemento, elemento in enumerate(coleccion): \n",
    "        print(coleccion, \"-->\",elemento)"
   ]
  },
  {
   "cell_type": "code",
   "execution_count": 20,
   "id": "ef1ea78b-897b-4f38-a357-aacbdfa9c5c9",
   "metadata": {},
   "outputs": [
    {
     "name": "stdout",
     "output_type": "stream",
     "text": [
      "E\n",
      "s\n",
      "t\n",
      "o\n",
      " \n",
      "e\n",
      "s\n",
      " \n",
      "u\n",
      "n\n",
      " \n",
      "t\n",
      "e\n",
      "x\n",
      "t\n",
      "o\n",
      "1\n",
      "5\n",
      "10\n",
      "15\n",
      "20\n",
      "25\n",
      "Azul\n",
      "Verde\n",
      "Amarillo\n"
     ]
    }
   ],
   "source": [
    "for indice_coleccion, coleccion in enumerate(lista): \n",
    "    for indice_elemento, elemento in enumerate(coleccion): \n",
    "        print(lista[indice_coleccion][indice_elemento])"
   ]
  },
  {
   "cell_type": "code",
   "execution_count": 21,
   "id": "c9a9a207-bbd9-4ddd-a03a-2af70d49f3ad",
   "metadata": {},
   "outputs": [
    {
     "name": "stdout",
     "output_type": "stream",
     "text": [
      "[0, 0, 0]\n",
      "[1, 1, 1]\n",
      "[2, 2, 2]\n"
     ]
    }
   ],
   "source": [
    "tabla = [\n",
    "    [0,0,0],\n",
    "    [1,1,1],\n",
    "    [2,2,2]\n",
    "]\n",
    "for fila in tabla: \n",
    "    print(fila)"
   ]
  },
  {
   "cell_type": "code",
   "execution_count": 26,
   "id": "e94cb744-97b3-46b7-87c0-0209e296679d",
   "metadata": {},
   "outputs": [
    {
     "name": "stdout",
     "output_type": "stream",
     "text": [
      "0 0 0 \n",
      "1 1 1 \n",
      "2 2 2 \n"
     ]
    }
   ],
   "source": [
    "for fila in tabla:\n",
    "    for columna in fila: \n",
    "            print(columna, end=\" \")\n",
    "    print()"
   ]
  },
  {
   "cell_type": "code",
   "execution_count": 27,
   "id": "955e1446-adf2-4bb3-bb11-ff9561375c63",
   "metadata": {},
   "outputs": [
    {
     "name": "stdout",
     "output_type": "stream",
     "text": [
      "0 0 0 \n",
      "1 1 1 \n",
      "2 2 2 \n"
     ]
    }
   ],
   "source": [
    "for i, fila in enumerate(tabla): \n",
    "    for j, columna in enumerate(fila): \n",
    "        print(tabla[i][j], end=\" \")\n",
    "    print()"
   ]
  },
  {
   "cell_type": "code",
   "execution_count": 28,
   "id": "0ac0eb48-d281-41b0-9ad5-9d3d0077b857",
   "metadata": {},
   "outputs": [],
   "source": [
    "tabla = [\n",
    "    [0,0,0],\n",
    "    [1,1,1],\n",
    "    [2,2,2]\n",
    "]\n",
    "cubo = [\n",
    "    tabla, tabla, tabla\n",
    "]"
   ]
  },
  {
   "cell_type": "code",
   "execution_count": 30,
   "id": "392405ae-6909-4b5e-86d7-efafacbb9246",
   "metadata": {},
   "outputs": [
    {
     "name": "stdout",
     "output_type": "stream",
     "text": [
      "0\n"
     ]
    }
   ],
   "source": [
    "print(cubo[0][0][0])"
   ]
  },
  {
   "cell_type": "code",
   "execution_count": 31,
   "id": "7fd2a878-4305-43ea-a320-4c4178cc36dd",
   "metadata": {},
   "outputs": [
    {
     "name": "stdout",
     "output_type": "stream",
     "text": [
      "1\n"
     ]
    }
   ],
   "source": [
    "print(cubo[2][1][2])"
   ]
  },
  {
   "cell_type": "code",
   "execution_count": 32,
   "id": "964dc47c-48d0-42dc-9ab0-51efc68f2466",
   "metadata": {},
   "outputs": [
    {
     "name": "stdout",
     "output_type": "stream",
     "text": [
      "0\n",
      "0\n",
      "0\n",
      "1\n",
      "1\n",
      "1\n",
      "2\n",
      "2\n",
      "2\n",
      "0\n",
      "0\n",
      "0\n",
      "1\n",
      "1\n",
      "1\n",
      "2\n",
      "2\n",
      "2\n",
      "0\n",
      "0\n",
      "0\n",
      "1\n",
      "1\n",
      "1\n",
      "2\n",
      "2\n",
      "2\n"
     ]
    }
   ],
   "source": [
    "for tabla in cubo: \n",
    "    for fila in tabla:\n",
    "        for columna in fila: \n",
    "            print(columna) "
   ]
  },
  {
   "cell_type": "code",
   "execution_count": 36,
   "id": "c2b8767a-9e2c-4422-9910-7b9b38f2cd07",
   "metadata": {},
   "outputs": [
    {
     "name": "stdout",
     "output_type": "stream",
     "text": [
      "0 0 0 \n",
      "1 1 1 \n",
      "2 2 2 \n",
      "\n",
      "0 0 0 \n",
      "1 1 1 \n",
      "2 2 2 \n",
      "\n",
      "0 0 0 \n",
      "1 1 1 \n",
      "2 2 2 \n",
      "\n"
     ]
    }
   ],
   "source": [
    "for k, tabla in enumerate(cubo): \n",
    "    for i,fila in enumerate (tabla):\n",
    "        for j, columna in enumerate(fila): \n",
    "            print(cubo[k][i][j], end=\" \") \n",
    "        print()\n",
    "    print()"
   ]
  },
  {
   "cell_type": "code",
   "execution_count": 71,
   "id": "2e3fcc0c-2c7e-4f17-81fb-6db80540fda0",
   "metadata": {},
   "outputs": [
    {
     "name": "stdout",
     "output_type": "stream",
     "text": [
      "[[0, 1, 0], [0, 0, 1], [1, 1, 0]]\n"
     ]
    }
   ],
   "source": [
    "#Ejercicio 1 \n",
    "\n",
    "matriz = [\n",
    "    [8, 7, 0],\n",
    "    [34, 2, -1],\n",
    "    [5, -5, 12],\n",
    "]\n",
    "#print (matriz[0][0])\n",
    "#print (type(matriz[0][0]))\n",
    "\n",
    "#if (matriz[0][0])==8:\n",
    " #   print(\"Yes\")\n",
    "\n",
    "for i, fila in enumerate(matriz): \n",
    "    for j, columna in enumerate(fila): \n",
    "        if matriz[i][j] % 2 == 0:\n",
    "            matriz [i][j] = 0 \n",
    "        else:\n",
    "            matriz [i][j]= 1\n",
    "print(matriz)"
   ]
  },
  {
   "cell_type": "code",
   "execution_count": null,
   "id": "d1ea126e-595b-4f9b-a760-144dd0650c62",
   "metadata": {},
   "outputs": [],
   "source": []
  },
  {
   "cell_type": "code",
   "execution_count": null,
   "id": "7a21ee8d-0737-423c-b0f5-e785de691d90",
   "metadata": {},
   "outputs": [],
   "source": []
  }
 ],
 "metadata": {
  "kernelspec": {
   "display_name": "Python 3 (ipykernel)",
   "language": "python",
   "name": "python3"
  },
  "language_info": {
   "codemirror_mode": {
    "name": "ipython",
    "version": 3
   },
   "file_extension": ".py",
   "mimetype": "text/x-python",
   "name": "python",
   "nbconvert_exporter": "python",
   "pygments_lexer": "ipython3",
   "version": "3.12.4"
  }
 },
 "nbformat": 4,
 "nbformat_minor": 5
}
