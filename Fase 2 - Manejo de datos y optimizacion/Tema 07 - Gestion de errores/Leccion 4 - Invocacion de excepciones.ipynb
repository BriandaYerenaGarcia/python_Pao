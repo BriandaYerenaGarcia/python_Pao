{
 "cells": [
  {
   "cell_type": "code",
   "execution_count": 1,
   "metadata": {},
   "outputs": [],
   "source": [
    "elementos = [1, 5, -2]\n",
    "elemento = 9\n",
    "def agregar_una_vez(lista, elemento):\n",
    "    #while(True):\n",
    "    for e in lista:\n",
    "        if e!= elemento:\n",
    "            lista.append(elemento)\n",
    "        else:\n",
    "            raise ValueError(\"El elemento que intentas agregar a la lista se repite\")"
   ]
  },
  {
   "cell_type": "code",
   "execution_count": 2,
   "metadata": {},
   "outputs": [
    {
     "ename": "ValueError",
     "evalue": "El elemento que intentas agregar a la lista se repite",
     "output_type": "error",
     "traceback": [
      "\u001b[1;31m---------------------------------------------------------------------------\u001b[0m",
      "\u001b[1;31mValueError\u001b[0m                                Traceback (most recent call last)",
      "Cell \u001b[1;32mIn[2], line 1\u001b[0m\n\u001b[1;32m----> 1\u001b[0m \u001b[43magregar_una_vez\u001b[49m\u001b[43m(\u001b[49m\u001b[43melementos\u001b[49m\u001b[43m,\u001b[49m\u001b[43m \u001b[49m\u001b[43melemento\u001b[49m\u001b[43m)\u001b[49m\n",
      "Cell \u001b[1;32mIn[1], line 9\u001b[0m, in \u001b[0;36magregar_una_vez\u001b[1;34m(lista, elemento)\u001b[0m\n\u001b[0;32m      7\u001b[0m     lista\u001b[38;5;241m.\u001b[39mappend(elemento)\n\u001b[0;32m      8\u001b[0m \u001b[38;5;28;01melse\u001b[39;00m:\n\u001b[1;32m----> 9\u001b[0m     \u001b[38;5;28;01mraise\u001b[39;00m \u001b[38;5;167;01mValueError\u001b[39;00m(\u001b[38;5;124m\"\u001b[39m\u001b[38;5;124mEl elemento que intentas agregar a la lista se repite\u001b[39m\u001b[38;5;124m\"\u001b[39m)\n",
      "\u001b[1;31mValueError\u001b[0m: El elemento que intentas agregar a la lista se repite"
     ]
    }
   ],
   "source": [
    "agregar_una_vez(elementos, elemento)"
   ]
  },
  {
   "cell_type": "code",
   "execution_count": null,
   "metadata": {},
   "outputs": [],
   "source": []
  }
 ],
 "metadata": {
  "kernelspec": {
   "display_name": "Python 3 (ipykernel)",
   "language": "python",
   "name": "python3"
  },
  "language_info": {
   "codemirror_mode": {
    "name": "ipython",
    "version": 3
   },
   "file_extension": ".py",
   "mimetype": "text/x-python",
   "name": "python",
   "nbconvert_exporter": "python",
   "pygments_lexer": "ipython3",
   "version": "3.12.4"
  }
 },
 "nbformat": 4,
 "nbformat_minor": 4
}
