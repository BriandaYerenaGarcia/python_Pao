{
 "cells": [
  {
   "cell_type": "code",
   "execution_count": 1,
   "metadata": {},
   "outputs": [
    {
     "name": "stdout",
     "output_type": "stream",
     "text": [
      "Un texto otro texto y un número 10\n"
     ]
    }
   ],
   "source": [
    "v = \"otro texto\"\n",
    "n = 10 \n",
    "print(\"Un texto\", v, \"y un número\", n) \n"
   ]
  },
  {
   "cell_type": "code",
   "execution_count": 5,
   "metadata": {},
   "outputs": [
    {
     "data": {
      "text/plain": [
       "'Un texto, otro texto y un número10'"
      ]
     },
     "execution_count": 5,
     "metadata": {},
     "output_type": "execute_result"
    }
   ],
   "source": [
    "#Formateo de escritura de las cadenas de caracteres \n",
    "c = \"Un texto, {} y un número{}\".format(v,n)\n",
    "c"
   ]
  },
  {
   "cell_type": "code",
   "execution_count": 6,
   "metadata": {},
   "outputs": [
    {
     "name": "stdout",
     "output_type": "stream",
     "text": [
      "Un texto, otro texto y un número10\n"
     ]
    }
   ],
   "source": [
    "print(c)"
   ]
  },
  {
   "cell_type": "code",
   "execution_count": 8,
   "metadata": {},
   "outputs": [
    {
     "name": "stdout",
     "output_type": "stream",
     "text": [
      "Un texto, 10 y un número otro texto\n"
     ]
    }
   ],
   "source": [
    "print( \"Un texto, {1} y un número {0}\".format(v,n))"
   ]
  },
  {
   "cell_type": "code",
   "execution_count": 9,
   "metadata": {},
   "outputs": [
    {
     "name": "stdout",
     "output_type": "stream",
     "text": [
      "Un texto, otro texto y un número 10\n"
     ]
    }
   ],
   "source": [
    "print( \"Un texto, {texto} y un número {numero}\".format(texto = v,numero = n))"
   ]
  },
  {
   "cell_type": "code",
   "execution_count": 11,
   "metadata": {},
   "outputs": [
    {
     "name": "stdout",
     "output_type": "stream",
     "text": [
      "otro texto,otro texto,otro texto\n"
     ]
    }
   ],
   "source": [
    "print(\"{v},{v},{v}\".format(v=v))"
   ]
  },
  {
   "cell_type": "code",
   "execution_count": 14,
   "metadata": {},
   "outputs": [
    {
     "name": "stdout",
     "output_type": "stream",
     "text": [
      "                       palabra\n"
     ]
    }
   ],
   "source": [
    "#Format nos permite alinear un texto (derecha, izq, centro) \n",
    "\n",
    "print(\"{:>30}\".format(\"palabra\") ) #Para alinear a la derecha 30 carac.."
   ]
  },
  {
   "cell_type": "code",
   "execution_count": 15,
   "metadata": {},
   "outputs": [
    {
     "name": "stdout",
     "output_type": "stream",
     "text": [
      "palabra                       \n"
     ]
    }
   ],
   "source": [
    "print(\"{:30}\".format(\"palabra\") ) #Para alinear a la izquierda 30 carac.."
   ]
  },
  {
   "cell_type": "code",
   "execution_count": 16,
   "metadata": {},
   "outputs": [
    {
     "name": "stdout",
     "output_type": "stream",
     "text": [
      "           palabra            \n"
     ]
    }
   ],
   "source": [
    "print(\"{:^30}\".format(\"palabra\") ) #Para alinear al centro 30 carac.."
   ]
  },
  {
   "cell_type": "code",
   "execution_count": 17,
   "metadata": {},
   "outputs": [
    {
     "name": "stdout",
     "output_type": "stream",
     "text": [
      "pal\n"
     ]
    }
   ],
   "source": [
    "print(\"{:.3}\".format(\"palabra\") ) #Truncamiento a 3 caracteres "
   ]
  },
  {
   "cell_type": "code",
   "execution_count": 19,
   "metadata": {},
   "outputs": [
    {
     "name": "stdout",
     "output_type": "stream",
     "text": [
      "                           pal\n"
     ]
    }
   ],
   "source": [
    "print(\"{:>30.3}\".format(\"palabra\") ) \n",
    "#Para alinear a la derecha 30 carac trucamiento de 3"
   ]
  },
  {
   "cell_type": "code",
   "execution_count": 21,
   "metadata": {},
   "outputs": [
    {
     "name": "stdout",
     "output_type": "stream",
     "text": [
      "  10\n",
      " 100\n",
      "1000\n"
     ]
    }
   ],
   "source": [
    "#Formateo de números enteros, rellenados con espacios \n",
    "print(\"{:4d}\".format(10)) #Aquí le decimos que lo queremos a 4 digitos\n",
    "print(\"{:4d}\".format(100))\n",
    "print(\"{:4d}\".format(1000))\n"
   ]
  },
  {
   "cell_type": "code",
   "execution_count": 25,
   "metadata": {},
   "outputs": [
    {
     "name": "stdout",
     "output_type": "stream",
     "text": [
      "0010\n",
      "0100\n",
      "1000\n"
     ]
    }
   ],
   "source": [
    "print(\"{:04d}\".format(10)) #Aquí pedimos a 4 digitos y rellenar con 0\n",
    "print(\"{:04d}\".format(100))\n",
    "print(\"{:04d}\".format(1000))"
   ]
  },
  {
   "cell_type": "code",
   "execution_count": 28,
   "metadata": {},
   "outputs": [
    {
     "name": "stdout",
     "output_type": "stream",
     "text": [
      "3.14\n",
      "153.20\n"
     ]
    }
   ],
   "source": [
    "#Formateo de números flotantes, rellenados con espacios \n",
    "print(\"{:.2f}\".format(3.1415926)) #Aquí le decimos a cuantos decimales (2)\n",
    "print(\"{:.2f}\".format(153.2))"
   ]
  },
  {
   "cell_type": "code",
   "execution_count": 30,
   "metadata": {},
   "outputs": [
    {
     "name": "stdout",
     "output_type": "stream",
     "text": [
      "  3.14\n",
      "153.20\n"
     ]
    }
   ],
   "source": [
    "print(\"{:6.2f}\".format(3.1415926)) #Aquí adicional les decimos cuantos \n",
    "print(\"{:6.2f}\".format(153.2))  #espacios requerimos en total (incluye el .)\n",
    "#Apareceran alineados y los decimales que le solicitamos"
   ]
  },
  {
   "cell_type": "code",
   "execution_count": 31,
   "metadata": {},
   "outputs": [
    {
     "name": "stdout",
     "output_type": "stream",
     "text": [
      "003.14\n",
      "153.20\n"
     ]
    }
   ],
   "source": [
    "print(\"{:06.2f}\".format(3.1415926)) #Aquí adicional rellenamos con 0\n",
    "print(\"{:06.2f}\".format(153.2))  \n"
   ]
  },
  {
   "cell_type": "code",
   "execution_count": null,
   "metadata": {},
   "outputs": [],
   "source": []
  }
 ],
 "metadata": {
  "kernelspec": {
   "display_name": "Python 3 (ipykernel)",
   "language": "python",
   "name": "python3"
  },
  "language_info": {
   "codemirror_mode": {
    "name": "ipython",
    "version": 3
   },
   "file_extension": ".py",
   "mimetype": "text/x-python",
   "name": "python",
   "nbconvert_exporter": "python",
   "pygments_lexer": "ipython3",
   "version": "3.12.4"
  }
 },
 "nbformat": 4,
 "nbformat_minor": 4
}
