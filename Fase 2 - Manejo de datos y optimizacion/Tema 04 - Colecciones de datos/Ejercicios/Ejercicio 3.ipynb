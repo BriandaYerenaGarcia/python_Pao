{
 "cells": [
  {
   "cell_type": "code",
   "execution_count": 1,
   "id": "00dda93b-c73c-4481-a8d0-3c90f41779d2",
   "metadata": {},
   "outputs": [
    {
     "name": "stdout",
     "output_type": "stream",
     "text": [
      "==Tareas desordenadas==\n",
      "6 Distribución\n",
      "2 Diseño\n",
      "1 Concepción\n",
      "7 Mantenimiento\n",
      "4 Producción\n",
      "3 Planificación\n",
      "5 Pruebas\n",
      "deque(['Concepción', 'Diseño', 'Planificación', 'Producción', 'Pruebas', 'Distribución', 'Mantenimiento'])\n"
     ]
    }
   ],
   "source": [
    "tareas = [ \n",
    "    [6, 'Distribución'],\n",
    "    [2, 'Diseño'],\n",
    "    [1, 'Concepción'],\n",
    "    [7, 'Mantenimiento'],\n",
    "    [4, 'Producción'],\n",
    "    [3, 'Planificación'],\n",
    "    [5, 'Pruebas']\n",
    "]\n",
    "\n",
    "print(\"==Tareas desordenadas==\")\n",
    "for tarea in tareas:\n",
    "    print(tarea[0], tarea[1])\n",
    "\n",
    "# Completa el ejercicio aquí\n",
    "from collections import deque\n",
    "\n",
    "tareas.sort()\n",
    "#print (tareas)\n",
    "\n",
    "cola = deque()\n",
    "cola.append(tareas[0][1])\n",
    "cola.append(tareas[1][1])\n",
    "cola.append(tareas[2][1])\n",
    "cola.append(tareas[3][1])\n",
    "cola.append(tareas[4][1])\n",
    "cola.append(tareas[5][1])\n",
    "cola.append(tareas[6][1])\n",
    "print(cola)"
   ]
  },
  {
   "cell_type": "code",
   "execution_count": null,
   "id": "875bb0d9-947b-4072-a2e7-20ff170b07ac",
   "metadata": {},
   "outputs": [],
   "source": []
  }
 ],
 "metadata": {
  "kernelspec": {
   "display_name": "Python 3 (ipykernel)",
   "language": "python",
   "name": "python3"
  },
  "language_info": {
   "codemirror_mode": {
    "name": "ipython",
    "version": 3
   },
   "file_extension": ".py",
   "mimetype": "text/x-python",
   "name": "python",
   "nbconvert_exporter": "python",
   "pygments_lexer": "ipython3",
   "version": "3.12.4"
  }
 },
 "nbformat": 4,
 "nbformat_minor": 5
}
